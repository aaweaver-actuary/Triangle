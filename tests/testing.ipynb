{
 "cells": [
  {
   "cell_type": "code",
   "execution_count": 2,
   "metadata": {},
   "outputs": [],
   "source": [
    "import sys\n",
    "sys.path.append(\"../triangle\")"
   ]
  },
  {
   "cell_type": "code",
   "execution_count": 3,
   "metadata": {},
   "outputs": [],
   "source": [
    "import pandas as pd\n",
    "import numpy as np\n",
    "from triangle_py.triangle import Triangle\n",
    "def test_triangle():\n",
    "    df = pd.DataFrame({\n",
    "        '12':[10, 10, 10, 10],\n",
    "        '24':[20, 20, 20, np.nan],\n",
    "        '36':[30, 30, np.nan, np.nan],\n",
    "        '48':[40, np.nan, np.nan, np.nan]\n",
    "    }, index=[2000, 2001, 2002, 2003])\n",
    "    return Triangle.from_dataframe(df=df, id=\"t\")\n",
    "def test_triangle2():\n",
    "    df = pd.DataFrame({\n",
    "        '12':[10, 11, 12, 13],\n",
    "        '24':[20, 30, 40, np.nan],\n",
    "        '36':[30, 37, np.nan, np.nan],\n",
    "        '48':[40, np.nan, np.nan, np.nan]\n",
    "    }, index=[2000, 2001, 2002, 2003])\n",
    "    return Triangle.from_dataframe(df=df, id=\"t\")\n",
    "\n",
    "t = test_triangle()\n",
    "t2 = test_triangle2()"
   ]
  },
  {
   "cell_type": "code",
   "execution_count": 4,
   "metadata": {},
   "outputs": [
    {
     "data": {
      "text/plain": [
       "development_period\n",
       "48    1.000000\n",
       "36    1.333333\n",
       "24    1.500000\n",
       "12    2.000000\n",
       "dtype: float64"
      ]
     },
     "execution_count": 4,
     "metadata": {},
     "output_type": "execute_result"
    }
   ],
   "source": [
    "t.ata('vwa')[::-1]"
   ]
  },
  {
   "cell_type": "code",
   "execution_count": 5,
   "metadata": {},
   "outputs": [
    {
     "name": "stdout",
     "output_type": "stream",
     "text": [
      "\u001b[1m============================= test session starts ==============================\u001b[0m\n",
      "platform linux -- Python 3.11.3, pytest-7.4.0, pluggy-1.2.0\n",
      "rootdir: /home/aweaver/git/Triangle/tests\n",
      "plugins: typeguard-2.13.3, anyio-3.5.0\n",
      "collected 33 items                                                             \u001b[0m\u001b[1m\n",
      "\n",
      "test_triangle.py \u001b[32m.\u001b[0m\u001b[32m.\u001b[0m\u001b[32m.\u001b[0m\u001b[32m.\u001b[0m\u001b[32m.\u001b[0m\u001b[32m.\u001b[0m\u001b[32m.\u001b[0m\u001b[32m.\u001b[0m\u001b[32m.\u001b[0m\u001b[32m.\u001b[0m\u001b[32m.\u001b[0m\u001b[32m.\u001b[0m\u001b[32m.\u001b[0m\u001b[32m.\u001b[0m\u001b[32m.\u001b[0m\u001b[32m.\u001b[0m\u001b[32m.\u001b[0m\u001b[32m.\u001b[0m\u001b[32m.\u001b[0m\u001b[32m.\u001b[0m\u001b[32m.\u001b[0m\u001b[32m.\u001b[0m\u001b[32m.\u001b[0m\u001b[32m.\u001b[0m\u001b[32m.\u001b[0m\u001b[32m.\u001b[0m\u001b[32m.\u001b[0m\u001b[32m.\u001b[0m\u001b[32m.\u001b[0m\u001b[32m.\u001b[0m\u001b[32m.\u001b[0m\u001b[32m.\u001b[0m\u001b[32m.\u001b[0m\u001b[32m                       [100%]\u001b[0m\n",
      "\n",
      "\u001b[32m============================== \u001b[32m\u001b[1m33 passed\u001b[0m\u001b[32m in 4.28s\u001b[0m\u001b[32m ==============================\u001b[0m\n"
     ]
    }
   ],
   "source": [
    "!pytest test_triangle.py"
   ]
  }
 ],
 "metadata": {
  "kernelspec": {
   "display_name": "dat",
   "language": "python",
   "name": "python3"
  },
  "language_info": {
   "codemirror_mode": {
    "name": "ipython",
    "version": 3
   },
   "file_extension": ".py",
   "mimetype": "text/x-python",
   "name": "python",
   "nbconvert_exporter": "python",
   "pygments_lexer": "ipython3",
   "version": "3.11.3"
  },
  "orig_nbformat": 4
 },
 "nbformat": 4,
 "nbformat_minor": 2
}
